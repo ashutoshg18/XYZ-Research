{
 "cells": [
  {
   "cell_type": "markdown",
   "id": "0cad3bdb",
   "metadata": {},
   "source": [
    "# XYZ Research"
   ]
  },
  {
   "cell_type": "code",
   "execution_count": 1,
   "id": "7846a5a3",
   "metadata": {},
   "outputs": [],
   "source": [
    "from pyspark.sql import SparkSession\n",
    "spark = (SparkSession.builder.appName(\"XYZ Research\").getOrCreate())"
   ]
  },
  {
   "cell_type": "code",
   "execution_count": 2,
   "id": "ae2714df",
   "metadata": {},
   "outputs": [],
   "source": [
    "data2001List = ['RIN1', 'RIN2', 'RIN3', 'RIN4', 'RIN5', 'RIN6', 'RIN7']\n",
    "data2002List = ['RIN3', 'RIN4', 'RIN7', 'RIN8', 'RIN9']\n",
    "data2003List = ['RIN4', 'RIN8', 'RIN10', 'RIN11', 'RIN12']"
   ]
  },
  {
   "cell_type": "code",
   "execution_count": 4,
   "id": "528165cb",
   "metadata": {},
   "outputs": [],
   "source": [
    "data2001RDD = spark.sparkContext.parallelize(data2001List)\n",
    "data2002RDD = spark.sparkContext.parallelize(data2002List)\n",
    "data2003RDD = spark.sparkContext.parallelize(data2003List)"
   ]
  },
  {
   "cell_type": "code",
   "execution_count": 5,
   "id": "310b1da5",
   "metadata": {},
   "outputs": [
    {
     "data": {
      "text/plain": [
       "['RIN1',\n",
       " 'RIN2',\n",
       " 'RIN3',\n",
       " 'RIN4',\n",
       " 'RIN5',\n",
       " 'RIN6',\n",
       " 'RIN7',\n",
       " 'RIN3',\n",
       " 'RIN4',\n",
       " 'RIN7',\n",
       " 'RIN8',\n",
       " 'RIN9']"
      ]
     },
     "execution_count": 5,
     "metadata": {},
     "output_type": "execute_result"
    }
   ],
   "source": [
    "unionOf2001_2002RDD = data2001RDD.union(data2002RDD)\n",
    "unionOf2001_2002RDD.collect()"
   ]
  },
  {
   "cell_type": "code",
   "execution_count": 7,
   "id": "410f3b62",
   "metadata": {},
   "outputs": [
    {
     "data": {
      "text/plain": [
       "['RIN4',\n",
       " 'RIN10',\n",
       " 'RIN2',\n",
       " 'RIN5',\n",
       " 'RIN11',\n",
       " 'RIN6',\n",
       " 'RIN1',\n",
       " 'RIN9',\n",
       " 'RIN12',\n",
       " 'RIN3',\n",
       " 'RIN8',\n",
       " 'RIN7']"
      ]
     },
     "execution_count": 7,
     "metadata": {},
     "output_type": "execute_result"
    }
   ],
   "source": [
    "fullResearchRDD = unionOf2001_2002RDD.union(data2003RDD).distinct()\n",
    "fullResearchRDD.collect()"
   ]
  },
  {
   "cell_type": "code",
   "execution_count": null,
   "id": "690deb5a",
   "metadata": {},
   "outputs": [],
   "source": [
    "fullResearchRDD.count()"
   ]
  }
 ],
 "metadata": {
  "kernelspec": {
   "display_name": "Python 3 (ipykernel)",
   "language": "python",
   "name": "python3"
  },
  "language_info": {
   "codemirror_mode": {
    "name": "ipython",
    "version": 3
   },
   "file_extension": ".py",
   "mimetype": "text/x-python",
   "name": "python",
   "nbconvert_exporter": "python",
   "pygments_lexer": "ipython3",
   "version": "3.10.0"
  }
 },
 "nbformat": 4,
 "nbformat_minor": 5
}
