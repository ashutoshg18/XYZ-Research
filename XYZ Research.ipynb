{
 "cells": [
  {
   "cell_type": "markdown",
   "id": "b3c6bc67",
   "metadata": {},
   "source": [
    "# XYZ Research"
   ]
  },
  {
   "cell_type": "code",
   "execution_count": 1,
   "id": "9a749416",
   "metadata": {},
   "outputs": [],
   "source": [
    "from pyspark.sql import SparkSession\n",
    "spark = (SparkSession.builder.appName(\"XYZ Research\").getOrCreate())"
   ]
  },
  {
   "cell_type": "code",
   "execution_count": 2,
   "id": "36692d6f",
   "metadata": {},
   "outputs": [],
   "source": [
    "data2001List = ['RIN1', 'RIN2', 'RIN3', 'RIN4', 'RIN5', 'RIN6', 'RIN7']\n",
    "data2002List = ['RIN3', 'RIN4', 'RIN7', 'RIN8', 'RIN9']\n",
    "data2003List = ['RIN4', 'RIN8', 'RIN10', 'RIN11', 'RIN12']"
   ]
  },
  {
   "cell_type": "code",
   "execution_count": 4,
   "id": "68ed47fe",
   "metadata": {},
   "outputs": [],
   "source": [
    "data2001RDD = spark.sparkContext.parallelize(data2001List)\n",
    "data2002RDD = spark.sparkContext.parallelize(data2002List)\n",
    "data2003RDD = spark.sparkContext.parallelize(data2003List)"
   ]
  },
  {
   "cell_type": "code",
   "execution_count": 5,
   "id": "955ff39c",
   "metadata": {},
   "outputs": [
    {
     "data": {
      "text/plain": [
       "['RIN1',\n",
       " 'RIN2',\n",
       " 'RIN3',\n",
       " 'RIN4',\n",
       " 'RIN5',\n",
       " 'RIN6',\n",
       " 'RIN7',\n",
       " 'RIN3',\n",
       " 'RIN4',\n",
       " 'RIN7',\n",
       " 'RIN8',\n",
       " 'RIN9']"
      ]
     },
     "execution_count": 5,
     "metadata": {},
     "output_type": "execute_result"
    }
   ],
   "source": [
    "unionOf2001_2002RDD = data2001RDD.union(data2002RDD)\n",
    "unionOf2001_2002RDD.collect()"
   ]
  },
  {
   "cell_type": "code",
   "execution_count": 7,
   "id": "2f5927ae",
   "metadata": {},
   "outputs": [
    {
     "data": {
      "text/plain": [
       "['RIN4',\n",
       " 'RIN10',\n",
       " 'RIN2',\n",
       " 'RIN5',\n",
       " 'RIN11',\n",
       " 'RIN6',\n",
       " 'RIN1',\n",
       " 'RIN9',\n",
       " 'RIN12',\n",
       " 'RIN3',\n",
       " 'RIN8',\n",
       " 'RIN7']"
      ]
     },
     "execution_count": 7,
     "metadata": {},
     "output_type": "execute_result"
    }
   ],
   "source": [
    "fullResearchRDD = unionOf2001_2002RDD.union(data2003RDD).distinct()\n",
    "fullResearchRDD.collect()"
   ]
  },
  {
   "cell_type": "code",
   "execution_count": 8,
   "id": "4001d23f",
   "metadata": {},
   "outputs": [
    {
     "data": {
      "text/plain": [
       "12"
      ]
     },
     "execution_count": 8,
     "metadata": {},
     "output_type": "execute_result"
    }
   ],
   "source": [
    "fullResearchRDD.count()"
   ]
  },
  {
   "cell_type": "markdown",
   "id": "d6834002",
   "metadata": {},
   "source": [
    "12 Projects were initiated in 3 years"
   ]
  },
  {
   "cell_type": "code",
   "execution_count": 9,
   "id": "aa318515",
   "metadata": {},
   "outputs": [
    {
     "data": {
      "text/plain": [
       "['RIN6', 'RIN2', 'RIN5', 'RIN1']"
      ]
     },
     "execution_count": 9,
     "metadata": {},
     "output_type": "execute_result"
    }
   ],
   "source": [
    "ProjCompIn_firstYear_RDD = data2001RDD.subtract(data2002RDD)\n",
    "ProjCompIn_firstYear_RDD.collect()"
   ]
  },
  {
   "cell_type": "markdown",
   "id": "a57e6168",
   "metadata": {},
   "source": [
    "'RIN6', 'RIN2', 'RIN5', 'RIN1' were projects completed in 1st year"
   ]
  },
  {
   "cell_type": "code",
   "execution_count": 10,
   "id": "760e7a93",
   "metadata": {},
   "outputs": [
    {
     "data": {
      "text/plain": [
       "['RIN1',\n",
       " 'RIN2',\n",
       " 'RIN3',\n",
       " 'RIN4',\n",
       " 'RIN5',\n",
       " 'RIN6',\n",
       " 'RIN7',\n",
       " 'RIN3',\n",
       " 'RIN4',\n",
       " 'RIN7',\n",
       " 'RIN8',\n",
       " 'RIN9']"
      ]
     },
     "execution_count": 10,
     "metadata": {},
     "output_type": "execute_result"
    }
   ],
   "source": [
    "first_two_Yr_union = data2001RDD.union(data2002RDD)\n",
    "first_two_Yr_union.collect()"
   ]
  },
  {
   "cell_type": "code",
   "execution_count": 11,
   "id": "a9dc5a41",
   "metadata": {},
   "outputs": [
    {
     "data": {
      "text/plain": [
       "['RIN2', 'RIN5', 'RIN6', 'RIN1', 'RIN9', 'RIN3', 'RIN7']"
      ]
     },
     "execution_count": 11,
     "metadata": {},
     "output_type": "execute_result"
    }
   ],
   "source": [
    "first_two_Yr_union.subtract(data2003RDD).distinct().collect()"
   ]
  },
  {
   "cell_type": "markdown",
   "id": "f1fd8e47",
   "metadata": {},
   "source": [
    "'RIN2', 'RIN5', 'RIN6', 'RIN1', 'RIN9', 'RIN3', 'RIN7' were completed in first two year"
   ]
  },
  {
   "cell_type": "code",
   "execution_count": null,
   "id": "4223762a",
   "metadata": {},
   "outputs": [],
   "source": []
  }
 ],
 "metadata": {
  "kernelspec": {
   "display_name": "Python 3 (ipykernel)",
   "language": "python",
   "name": "python3"
  },
  "language_info": {
   "codemirror_mode": {
    "name": "ipython",
    "version": 3
   },
   "file_extension": ".py",
   "mimetype": "text/x-python",
   "name": "python",
   "nbconvert_exporter": "python",
   "pygments_lexer": "ipython3",
   "version": "3.10.0"
  }
 },
 "nbformat": 4,
 "nbformat_minor": 5
}
